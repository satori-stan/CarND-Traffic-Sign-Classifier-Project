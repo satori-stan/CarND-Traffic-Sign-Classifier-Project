{
 "cells": [
  {
   "cell_type": "markdown",
   "metadata": {},
   "source": [
    "# Self-Driving Car Engineer Nanodegree\n",
    "\n",
    "## Deep Learning\n",
    "\n",
    "## Project: Build a Traffic Sign Recognition Classifier\n",
    "\n",
    "In this notebook, a template is provided for you to implement your functionality in stages, which is required to successfully complete this project. If additional code is required that cannot be included in the notebook, be sure that the Python code is successfully imported and included in your submission if necessary. \n",
    "\n",
    "> **Note**: Once you have completed all of the code implementations, you need to finalize your work by exporting the iPython Notebook as an HTML document. Before exporting the notebook to html, all of the code cells need to have been run so that reviewers can see the final implementation and output. You can then export the notebook by using the menu above and navigating to  \\n\",\n",
    "    \"**File -> Download as -> HTML (.html)**. Include the finished document along with this notebook as your submission. \n",
    "\n",
    "In addition to implementing code, there is a writeup to complete. The writeup should be completed in a separate file, which can be either a markdown file or a pdf document. There is a [write up template](https://github.com/udacity/CarND-Traffic-Sign-Classifier-Project/blob/master/writeup_template.md) that can be used to guide the writing process. Completing the code template and writeup template will cover all of the [rubric points](https://review.udacity.com/#!/rubrics/481/view) for this project.\n",
    "\n",
    "The [rubric](https://review.udacity.com/#!/rubrics/481/view) contains \"Stand Out Suggestions\" for enhancing the project beyond the minimum requirements. The stand out suggestions are optional. If you decide to pursue the \"stand out suggestions\", you can include the code in this Ipython notebook and also discuss the results in the writeup file.\n",
    "\n",
    "\n",
    ">**Note:** Code and Markdown cells can be executed using the **Shift + Enter** keyboard shortcut. In addition, Markdown cells can be edited by typically double-clicking the cell to enter edit mode."
   ]
  },
  {
   "cell_type": "markdown",
   "metadata": {},
   "source": [
    "---\n",
    "## Step 0: Load The Data"
   ]
  },
  {
   "cell_type": "code",
   "execution_count": 1,
   "metadata": {
    "collapsed": true
   },
   "outputs": [],
   "source": [
    "# Load pickled data\n",
    "import pickle\n",
    "\n",
    "# TODO: Fill this in based on where you saved the training and testing data\n",
    "\n",
    "training_file = 'data/train.p'\n",
    "validation_file= 'data/valid.p'\n",
    "testing_file = 'data/test.p'\n",
    "\n",
    "with open(training_file, mode='rb') as f:\n",
    "    train = pickle.load(f)\n",
    "with open(validation_file, mode='rb') as f:\n",
    "    valid = pickle.load(f)\n",
    "with open(testing_file, mode='rb') as f:\n",
    "    test = pickle.load(f)\n",
    "    \n",
    "X_train, y_train = train['features'], train['labels']\n",
    "X_valid, y_valid = valid['features'], valid['labels']\n",
    "X_test, y_test = test['features'], test['labels']"
   ]
  },
  {
   "cell_type": "markdown",
   "metadata": {},
   "source": [
    "---\n",
    "\n",
    "## Step 1: Dataset Summary & Exploration\n",
    "\n",
    "The pickled data is a dictionary with 4 key/value pairs:\n",
    "\n",
    "- `'features'` is a 4D array containing raw pixel data of the traffic sign images, (num examples, width, height, channels).\n",
    "- `'labels'` is a 1D array containing the label/class id of the traffic sign. The file `signnames.csv` contains id -> name mappings for each id.\n",
    "- `'sizes'` is a list containing tuples, (width, height) representing the original width and height the image.\n",
    "- `'coords'` is a list containing tuples, (x1, y1, x2, y2) representing coordinates of a bounding box around the sign in the image. **THESE COORDINATES ASSUME THE ORIGINAL IMAGE. THE PICKLED DATA CONTAINS RESIZED VERSIONS (32 by 32) OF THESE IMAGES**\n",
    "\n",
    "Complete the basic data summary below. Use python, numpy and/or pandas methods to calculate the data summary rather than hard coding the results. For example, the [pandas shape method](http://pandas.pydata.org/pandas-docs/stable/generated/pandas.DataFrame.shape.html) might be useful for calculating some of the summary results. "
   ]
  },
  {
   "cell_type": "markdown",
   "metadata": {},
   "source": [
    "### Provide a Basic Summary of the Data Set Using Python, Numpy and/or Pandas"
   ]
  },
  {
   "cell_type": "code",
   "execution_count": 2,
   "metadata": {},
   "outputs": [
    {
     "name": "stdout",
     "output_type": "stream",
     "text": [
      "Number of training examples = 34799\n",
      "Number of validation examples = 4410\n",
      "Number of testing examples = 12630\n",
      "Image data shape = (32, 32)\n",
      "Number of classes = 43\n"
     ]
    }
   ],
   "source": [
    "### Replace each question mark with the appropriate value. \n",
    "### Use python, pandas or numpy methods rather than hard coding the results\n",
    "import numpy as np\n",
    "\n",
    "# TODO: Number of training examples\n",
    "n_train = X_train.shape[0]\n",
    "\n",
    "# TODO: Number of validation examples\n",
    "n_validation = X_valid.shape[0]\n",
    "\n",
    "# TODO: Number of testing examples.\n",
    "n_test = X_test.shape[0]\n",
    "\n",
    "# TODO: What's the shape of an traffic sign image?\n",
    "image_shape = (X_train.shape[1], X_train.shape[2])\n",
    "\n",
    "# TODO: How many unique classes/labels there are in the dataset.\n",
    "n_classes = len(np.unique(y_train))\n",
    "\n",
    "print(\"Number of training examples =\", n_train)\n",
    "print(\"Number of validation examples =\", n_validation)\n",
    "print(\"Number of testing examples =\", n_test)\n",
    "print(\"Image data shape =\", image_shape)\n",
    "print(\"Number of classes =\", n_classes)"
   ]
  },
  {
   "cell_type": "markdown",
   "metadata": {},
   "source": [
    "### Include an exploratory visualization of the dataset"
   ]
  },
  {
   "cell_type": "markdown",
   "metadata": {},
   "source": [
    "Visualize the German Traffic Signs Dataset using the pickled file(s). This is open ended, suggestions include: plotting traffic sign images, plotting the count of each sign, etc. \n",
    "\n",
    "The [Matplotlib](http://matplotlib.org/) [examples](http://matplotlib.org/examples/index.html) and [gallery](http://matplotlib.org/gallery.html) pages are a great resource for doing visualizations in Python.\n",
    "\n",
    "**NOTE:** It's recommended you start with something simple first. If you wish to do more, come back to it after you've completed the rest of the sections. It can be interesting to look at the distribution of classes in the training, validation and test set. Is the distribution the same? Are there more examples of some classes than others?"
   ]
  },
  {
   "cell_type": "code",
   "execution_count": 3,
   "metadata": {},
   "outputs": [
    {
     "data": {
      "image/png": "[encoded data removed]",
      "text/plain": [
       "<matplotlib.figure.Figure at 0x7fce48105470>"
      ]
     },
     "metadata": {},
     "output_type": "display_data"
    },
    {
     "name": "stdout",
     "output_type": "stream",
     "text": [
      "Type of random example image: 14\n"
     ]
    },
    {
     "data": {
      "image/png": "[encoded data removed]",
      "text/plain": [
       "<matplotlib.figure.Figure at 0x7fce1511c940>"
      ]
     },
     "metadata": {},
     "output_type": "display_data"
    }
   ],
   "source": [
    "### Data exploration visualization code goes here.\n",
    "### Feel free to use as many code cells as needed.\n",
    "import matplotlib.pyplot as plt\n",
    "import random\n",
    "# Visualizations will be shown in the notebook.\n",
    "%matplotlib inline\n",
    "\n",
    "fig, ax = plt.subplots()\n",
    "n, bins, patches = ax.hist(y_train, n_classes)\n",
    "\n",
    "fig.tight_layout()\n",
    "plt.show()\n",
    "\n",
    "index = random.randint(0, n_train) # Maybe more than one\n",
    "image = X_train[index].squeeze()\n",
    "\n",
    "plt.figure(figsize=(2,2))\n",
    "plt.imshow(image)\n",
    "print(\"Type of random example image: {}\".format(y_train[index]))"
   ]
  },
  {
   "cell_type": "code",
   "execution_count": 4,
   "metadata": {},
   "outputs": [
    {
     "name": "stdout",
     "output_type": "stream",
     "text": [
      "Distribution of examples per class:\n",
      "[  180.  1980.  2010.  1260.  1770.  1650.   360.  1290.  1260.  1320.\n",
      "  1800.  1170.  1890.  1920.   690.   540.   360.   990.  1080.   180.\n",
      "   300.   270.   330.   450.   240.  1350.   540.   210.   480.   240.\n",
      "   390.   690.   210.   599.   360.  1080.   330.   180.  1860.   270.\n",
      "   300.   210.   210.]\n"
     ]
    }
   ],
   "source": [
    "print(\"Distribution of examples per class:\")\n",
    "print(n)"
   ]
  },
  {
   "cell_type": "markdown",
   "metadata": {},
   "source": [
    "----\n",
    "\n",
    "## Step 2: Design and Test a Model Architecture\n",
    "\n",
    "Design and implement a deep learning model that learns to recognize traffic signs. Train and test your model on the [German Traffic Sign Dataset](http://benchmark.ini.rub.de/?section=gtsrb&subsection=dataset).\n",
    "\n",
    "The LeNet-5 implementation shown in the [classroom](https://classroom.udacity.com/nanodegrees/nd013/parts/fbf77062-5703-404e-b60c-95b78b2f3f9e/modules/6df7ae49-c61c-4bb2-a23e-6527e69209ec/lessons/601ae704-1035-4287-8b11-e2c2716217ad/concepts/d4aca031-508f-4e0b-b493-e7b706120f81) at the end of the CNN lesson is a solid starting point. You'll have to change the number of classes and possibly the preprocessing, but aside from that it's plug and play! \n",
    "\n",
    "With the LeNet-5 solution from the lecture, you should expect a validation set accuracy of about 0.89. To meet specifications, the validation set accuracy will need to be at least 0.93. It is possible to get an even higher accuracy, but 0.93 is the minimum for a successful project submission. \n",
    "\n",
    "There are various aspects to consider when thinking about this problem:\n",
    "\n",
    "- Neural network architecture (is the network over or underfitting?)\n",
    "- Play around preprocessing techniques (normalization, rgb to grayscale, etc)\n",
    "- Number of examples per label (some have more than others).\n",
    "- Generate fake data.\n",
    "\n",
    "Here is an example of a [published baseline model on this problem](http://yann.lecun.com/exdb/publis/pdf/sermanet-ijcnn-11.pdf). It's not required to be familiar with the approach used in the paper but, it's good practice to try to read papers like these."
   ]
  },
  {
   "cell_type": "markdown",
   "metadata": {},
   "source": [
    "### Pre-process the Data Set (normalization, grayscale, etc.)"
   ]
  },
  {
   "cell_type": "markdown",
   "metadata": {},
   "source": [
    "Minimally, the image data should be normalized so that the data has mean zero and equal variance. For image data, `(pixel - 128)/ 128` is a quick way to approximately normalize the data and can be used in this project. \n",
    "\n",
    "Other pre-processing steps are optional. You can try different techniques to see if it improves performance. \n",
    "\n",
    "Use the code cell (or multiple code cells, if necessary) to implement the first step of your project."
   ]
  },
  {
   "cell_type": "code",
   "execution_count": 5,
   "metadata": {
    "collapsed": true
   },
   "outputs": [],
   "source": [
    "### Preprocess the data here. It is required to normalize the data. Other preprocessing steps could include \n",
    "### converting to grayscale, etc.\n",
    "### Feel free to use as many code cells as needed.\n",
    "import cv2\n",
    "import math\n",
    "\n",
    "def resize(image, factor):\n",
    "    interpolation = cv2.INTER_CUBIC if factor > 1.0 else cv2.INTER_AREA\n",
    "    tmp = cv2.resize(image, (math.ceil(image.shape[0] * factor), math.ceil(image.shape[1] * factor)), interpolation = interpolation)\n",
    "    #print(factor)\n",
    "    if factor > 1.0:\n",
    "        # Crop\n",
    "        y, x = tmp.shape[0:2]\n",
    "        orig_y, orig_x = image.shape[0:2]\n",
    "        startx = x//2 - (orig_x//2)\n",
    "        starty = y//2 - (orig_y//2)\n",
    "        return tmp[starty:(starty + orig_y), startx:(startx + orig_x)]\n",
    "    else:\n",
    "        # Pad\n",
    "        y, x = image.shape[0:2] # Get the size of the original image\n",
    "        final_y, final_x = tmp.shape[0:2] # And the size of the resized (smaller) image\n",
    "        # The resized image will be pasted starting at half the original size minus half the new size of the resized\n",
    "        startx = x//2 - (final_x//2)\n",
    "        starty = y//2 - (final_y//2)\n",
    "        # Create an empty (black) canvas of the same size of the original image\n",
    "        tmp2 = np.zeros_like(image)\n",
    "        # Paste the resized image into the empty canvas\n",
    "        tmp2[starty:(starty + final_y), startx:(startx + final_x),:] += tmp\n",
    "        return tmp2\n",
    "\n",
    "# From https://medium.com/@vivek.yadav/improved-performance-of-deep-learning-neural-network-models-on-traffic-sign-classification-using-6355346da2dc\n",
    "def augment_brightness_camera_images(image):\n",
    "    image1 = cv2.cvtColor(image, cv2.COLOR_RGB2HSV)\n",
    "    image1 = np.array(image1, dtype = np.float64)\n",
    "    random_bright = .5 + np.random.uniform()\n",
    "    image1[:, :, 2] = image1[:, :, 2] * random_bright\n",
    "    image1[:, :, 2][image1[:, :, 2] > 255]  = 255\n",
    "    image1 = np.array(image1, dtype = np.uint8)\n",
    "    image1 = cv2.cvtColor(image1, cv2.COLOR_HSV2RGB)\n",
    "    return image1\n",
    "\n",
    "# From https://medium.com/@vivek.yadav/improved-performance-of-deep-learning-neural-network-models-on-traffic-sign-classification-using-6355346da2dc\n",
    "def transform_image(image, zoom_range, ang_range, shear_range, trans_range):\n",
    "    # Zoom\n",
    "    image = resize(image, np.random.uniform(low = 0.4, high = zoom_range)) # Limit down to 0.5 or it could be too small.\n",
    "    # Rotation\n",
    "    ang_rot = np.random.uniform(ang_range) - ang_range/2\n",
    "    rows, cols, ch = image.shape    \n",
    "    Rot_M = cv2.getRotationMatrix2D((cols/2, rows/2), ang_rot, 1)\n",
    "    # Translation\n",
    "    tr_x = trans_range * np.random.uniform() - trans_range/2\n",
    "    tr_y = trans_range * np.random.uniform() - trans_range/2\n",
    "    Trans_M = np.float32([[1, 0, tr_x], [0, 1, tr_y]])\n",
    "    # Shear\n",
    "    pts1 = np.float32([[5, 5], [20, 5], [5, 20]])\n",
    "    pt1 = 5 + shear_range * np.random.uniform() - shear_range/2\n",
    "    pt2 = 20 + shear_range * np.random.uniform() - shear_range/2\n",
    "    pts2 = np.float32([[pt1, 5], [pt2, pt1], [5, pt2]])\n",
    "    shear_M = cv2.getAffineTransform(pts1, pts2)\n",
    "    # Apply transforms\n",
    "    image = cv2.warpAffine(image, Rot_M, (cols, rows))\n",
    "    image = cv2.warpAffine(image, Trans_M, (cols, rows))\n",
    "    image = cv2.warpAffine(image, shear_M, (cols, rows))\n",
    "    #Brightness augmentation\n",
    "    #image = augment_brightness_camera_images(image)  \n",
    "    return image"
   ]
  },
  {
   "cell_type": "code",
   "execution_count": 6,
   "metadata": {
    "scrolled": false
   },
   "outputs": [
    {
     "data": {
      "text/plain": [
       "<matplotlib.image.AxesImage at 0x7fce14eb6e10>"
      ]
     },
     "execution_count": 6,
     "metadata": {},
     "output_type": "execute_result"
    },
    {
     "data": {
      "image/png": "[encoded data removed]",
      "text/plain": [
       "<matplotlib.figure.Figure at 0x7fce52229438>"
      ]
     },
     "metadata": {},
     "output_type": "display_data"
    }
   ],
   "source": [
    "# Get an indication of what the transformation is doing to the example image\n",
    "plt.imshow(transform_image(image, 1.5, 45, 5, 10))"
   ]
  },
  {
   "cell_type": "code",
   "execution_count": 7,
   "metadata": {},
   "outputs": [
    {
     "data": {
      "text/plain": [
       "<matplotlib.image.AxesImage at 0x7fce14ea5d30>"
      ]
     },
     "execution_count": 7,
     "metadata": {},
     "output_type": "execute_result"
    },
    {
     "data": {
      "image/png": "[encoded data removed]",
      "text/plain": [
       "<matplotlib.figure.Figure at 0x7fce14fbf160>"
      ]
     },
     "metadata": {},
     "output_type": "display_data"
    }
   ],
   "source": [
    "# And every time the process is run, the result should change\n",
    "plt.imshow(transform_image(image, 1.5, 45, 5, 10))"
   ]
  },
  {
   "cell_type": "code",
   "execution_count": 8,
   "metadata": {},
   "outputs": [
    {
     "name": "stdout",
     "output_type": "stream",
     "text": [
      "Maximum number of examples for a single class: 2010.0\n",
      "\n",
      "New shape for training data array: (74217, 32, 32, 3)\n",
      "New shape for training results array (must match data array): (74217,)\n"
     ]
    }
   ],
   "source": [
    "# Augment all image classes so that they have roughly the same examples\n",
    "import math\n",
    "import os\n",
    "\n",
    "max_examples = np.max(n)\n",
    "print(\"Maximum number of examples for a single class: {}\".format(max_examples))\n",
    "print()\n",
    "\n",
    "# If an augmented train dataset already exists, load it from disk to avoid spending too much time in this expensive process\n",
    "augmented_training_file = 'data/augmented_train.p'\n",
    "try:\n",
    "    with open(augmented_training_file, mode='rb') as f:\n",
    "        train = pickle.load(f)\n",
    "    X_train, y_train = train['features'], train['labels']\n",
    "    \n",
    "except:\n",
    "    for i in range(int(X_train.shape[0])):\n",
    "        num_extra = math.floor((max_examples - n[y_train[i]]) / n[y_train[i]])\n",
    "        if num_extra > 0:\n",
    "            X_train = np.concatenate((X_train, [transform_image(X_train[i], 1.5, 45, 5, 10) for _ in range(num_extra)]))\n",
    "            y_train = np.concatenate((y_train, np.full(num_extra, y_train[i])))\n",
    "        if i % 1000 == 0:\n",
    "            print(\"Processing {:.2f}%\".format(i*100/n_train))\n",
    "    train = {'features': X_train, 'labels': y_train}\n",
    "    with open(augmented_training_file, mode='wb') as f:\n",
    "        pickle.dump(train, f)\n",
    "    print()\n",
    "\n",
    "print(\"New shape for training data array: {}\".format(X_train.shape))\n",
    "print(\"New shape for training results array (must match data array): {}\".format(y_train.shape))"
   ]
  },
  {
   "cell_type": "code",
   "execution_count": 9,
   "metadata": {},
   "outputs": [
    {
     "name": "stdout",
     "output_type": "stream",
     "text": [
      "Examples per class after augmentation:\n"
     ]
    },
    {
     "data": {
      "image/png": "[encoded data removed]",
      "text/plain": [
       "<matplotlib.figure.Figure at 0x7fce14e424a8>"
      ]
     },
     "metadata": {},
     "output_type": "display_data"
    },
    {
     "name": "stdout",
     "output_type": "stream",
     "text": [
      "Distribution of examples per class after augmentation:\n",
      "[ 1980.  1980.  2010.  1260.  1770.  1650.  1800.  1290.  1260.  1320.\n",
      "  1800.  1170.  1890.  1920.  1380.  1620.  1800.  1980.  1080.  1980.\n",
      "  1800.  1890.  1980.  1800.  1920.  1350.  1620.  1890.  1920.  1920.\n",
      "  1950.  1380.  1890.  1797.  1800.  1080.  1980.  1980.  1860.  1890.\n",
      "  1800.  1890.  1890.]\n"
     ]
    }
   ],
   "source": [
    "print(\"Examples per class after augmentation:\")\n",
    "fig, ax = plt.subplots()\n",
    "n, bins, patches = ax.hist(y_train, n_classes)\n",
    "\n",
    "fig.tight_layout()\n",
    "plt.show()\n",
    "\n",
    "print(\"Distribution of examples per class after augmentation:\")\n",
    "print(n)"
   ]
  },
  {
   "cell_type": "code",
   "execution_count": 10,
   "metadata": {
    "collapsed": true
   },
   "outputs": [],
   "source": [
    "# Full normalization is not really necessary in images where the value-space is restricted to 255, but since it\n",
    "# is required by the project we do it anyway...\n",
    "from skimage import exposure\n",
    "\n",
    "def preprocess(X_data):\n",
    "    \"\"\"Converts an image array (tensor) [to grayscale], aplies contrast stretching and normalizes it.\"\"\"\n",
    "    for i in range(X_data.shape[0]):\n",
    "        p2, p98 = np.percentile(X_data[i], (2, 98)) # Calculate percentiles for each image\n",
    "        X_data[i] = exposure.rescale_intensity(X_data[i], in_range=(p2, p98))\n",
    "    return (X_data - 128.0) / 128.0\n"
   ]
  },
  {
   "cell_type": "code",
   "execution_count": 11,
   "metadata": {
    "collapsed": true
   },
   "outputs": [],
   "source": [
    "X_train = preprocess(X_train)\n",
    "X_valid = preprocess(X_valid)\n",
    "X_test  = preprocess(X_test)"
   ]
  },
  {
   "cell_type": "code",
   "execution_count": 12,
   "metadata": {
    "scrolled": true
   },
   "outputs": [
    {
     "name": "stdout",
     "output_type": "stream",
     "text": [
      "Preprocessed example image:\n"
     ]
    },
    {
     "data": {
      "text/plain": [
       "<matplotlib.image.AxesImage at 0x7fcdfe43fd30>"
      ]
     },
     "execution_count": 12,
     "metadata": {},
     "output_type": "execute_result"
    },
    {
     "data": {
      "image/png": "[encoded data removed]",
      "text/plain": [
       "<matplotlib.figure.Figure at 0x7fce011f1898>"
      ]
     },
     "metadata": {},
     "output_type": "display_data"
    }
   ],
   "source": [
    "print(\"Preprocessed example image:\")\n",
    "#plt.imshow(np.squeeze(X_train[index], axis=-1), cmap='gray')\n",
    "plt.imshow(X_train[index])\n"
   ]
  },
  {
   "cell_type": "markdown",
   "metadata": {},
   "source": [
    "### Model Architecture"
   ]
  },
  {
   "cell_type": "code",
   "execution_count": 13,
   "metadata": {
    "collapsed": true
   },
   "outputs": [],
   "source": [
    "### Define your architecture here.\n",
    "### Feel free to use as many code cells as needed.\n",
    "\n",
    "from tensorflow.contrib.layers import flatten\n",
    "import tensorflow as tf\n",
    "tf.reset_default_graph()"
   ]
  },
  {
   "cell_type": "code",
   "execution_count": 14,
   "metadata": {
    "collapsed": true
   },
   "outputs": [],
   "source": [
    "def LeNet(x, keep_prob):    \n",
    "    # Arguments used for tf.truncated_normal, randomly defines variables for the weights and biases for each layer\n",
    "    mu = 0\n",
    "    sigma = 0.1\n",
    "    \n",
    "    initializer = tf.contrib.layers.variance_scaling_initializer(factor=2.0, mode='FAN_IN', uniform=False)\n",
    "    \n",
    "    # SOLUTION: Layer 1: Convolutional. Input = 32x32x1. Output = 28x28x6.\n",
    "    #conv1_W = tf.Variable(tf.truncated_normal(shape=(5, 5, 3, 6), mean = mu, stddev = sigma))\n",
    "    conv1_W = tf.Variable(initializer((5, 5, 3, 6)))\n",
    "    conv1_b = tf.Variable(tf.zeros(6))\n",
    "    conv1   = tf.nn.conv2d(x, conv1_W, strides=[1, 1, 1, 1], padding='VALID') + conv1_b\n",
    "    #conv1   = tf.nn.conv2d(x, conv1_W, strides=[1, 1, 1, 1], padding='SAME') + conv1_b\n",
    "\n",
    "    # SOLUTION: Activation.\n",
    "    conv1 = tf.nn.relu(conv1)\n",
    "\n",
    "    # SOLUTION: Pooling. Input = 28x28x6. Output = 14x14x6.\n",
    "    #conv1 = tf.nn.max_pool(conv1, ksize=[1, 2, 2, 1], strides=[1, 2, 2, 1], padding='VALID')\n",
    "    \n",
    "    # XXX: Sae 14x14x6\n",
    "    #conv1a_W = tf.Variable(tf.truncated_normal(shape=(5, 5, 6, 6), mean = mu, stddev = sigma))\n",
    "    conv1a_W = tf.Variable(initializer((5, 5, 6, 6)))\n",
    "    conv1a_b = tf.Variable(tf.zeros(6))\n",
    "    conv1a   = tf.nn.conv2d(conv1, conv1a_W, strides=[1, 1, 1, 1], padding='VALID') + conv1a_b\n",
    "    #conv1a   = tf.nn.conv2d(conv1, conv1a_W, strides=[1, 1, 1, 1], padding='SAME') + conv1a_b\n",
    "    conv1a = tf.nn.relu(conv1a)\n",
    "\n",
    "    #conv1a = tf.concat(3, (conv1a, conv1))\n",
    "    #conv1a = tf.stack((conv1a, x), axis=-1)\n",
    "    \n",
    "    # SOLUTION: Layer 2: Convolutional. Output = 10x10x16.\n",
    "    #conv2_W = tf.Variable(tf.truncated_normal(shape=(5, 5, 6, 16), mean = mu, stddev = sigma))\n",
    "    #conv2_W = tf.Variable(tf.truncated_normal(shape=(5, 5, 9, 16), mean = mu, stddev = sigma))\n",
    "    conv2_W = tf.Variable(initializer((5, 5, 6, 16)))\n",
    "    conv2_b = tf.Variable(tf.zeros(16))\n",
    "    conv2   = tf.nn.conv2d(conv1a, conv2_W, strides=[1, 1, 1, 1], padding='VALID') + conv2_b\n",
    "    \n",
    "    # SOLUTION: Activation.\n",
    "    conv2 = tf.nn.relu(conv2)\n",
    "\n",
    "    # SOLUTION: Pooling. Input = 10x10x16. Output = 5x5x16.\n",
    "    conv2 = tf.nn.max_pool(conv2, ksize=[1, 2, 2, 1], strides=[1, 2, 2, 1], padding='VALID')\n",
    "\n",
    "    # SOLUTION: Flatten. Input = 5x5x16. Output = 400.\n",
    "    fc0   = tf.nn.dropout(flatten(conv2), keep_prob)\n",
    "    \n",
    "    # SOLUTION: Layer 3: Fully Connected. Input = 400. Output = 120.\n",
    "    #fc1_W = tf.Variable(tf.truncated_normal(shape=(400, 120), mean = mu, stddev = sigma))\n",
    "    #fc1_W = tf.Variable(tf.truncated_normal(shape=(1600, 120), mean = mu, stddev = sigma))\n",
    "    fc1_W = tf.Variable(initializer((1600, 120)))\n",
    "    fc1_b = tf.Variable(tf.zeros(120))\n",
    "    fc1   = tf.matmul(fc0, fc1_W) + fc1_b\n",
    "    \n",
    "    # SOLUTION: Activation.\n",
    "    fc1    = tf.nn.dropout(tf.nn.relu(fc1), keep_prob)\n",
    "\n",
    "    # SOLUTION: Layer 4: Fully Connected. Input = 120. Output = 84.\n",
    "    #fc2_W  = tf.Variable(tf.truncated_normal(shape=(120, 84), mean = mu, stddev = sigma))\n",
    "    fc2_W  = tf.Variable(initializer((120, 84)))\n",
    "    fc2_b  = tf.Variable(tf.zeros(84))\n",
    "    fc2    = tf.matmul(fc1, fc2_W) + fc2_b\n",
    "    \n",
    "    # SOLUTION: Activation.\n",
    "    fc2    = tf.nn.dropout(tf.nn.relu(fc2), keep_prob)\n",
    "\n",
    "    # SOLUTION: Layer 5: Fully Connected. Input = 84. Output = 10.\n",
    "    #fc3_W  = tf.Variable(tf.truncated_normal(shape=(84, n_classes), mean = mu, stddev = sigma))\n",
    "    fc3_W  = tf.Variable(initializer((84, n_classes)))\n",
    "    fc3_b  = tf.Variable(tf.zeros(n_classes))\n",
    "    logits = tf.matmul(fc2, fc3_W) + fc3_b\n",
    "    \n",
    "    return logits"
   ]
  },
  {
   "cell_type": "code",
   "execution_count": null,
   "metadata": {
    "collapsed": true
   },
   "outputs": [],
   "source": [
    "def Inception(x, keep_prob):\n",
    "    # Parameters for the creation of the initialization layers\n",
    "    mu = 0\n",
    "    sigma = 0.1\n",
    "    conv_strides = [1, 1, 1, 1]\n",
    "    \n",
    "    # initializer = tf.contrib.layers.variance_scaling_initializer(factor=2.0, mode='FAN_IN', uniform=False)\n",
    "    # tf.Variable(initializer(shape))\n",
    "    # 1x1 convolution to be used directly and as input for the 3x3 and 5x5\n",
    "    conv1a_W = tf.Variable(tf.truncated_normal((1, 1, 3, 8), mean = mu, stddev = sigma))\n",
    "    conv1a_b = tf.Variable(tf.truncated_normal([8], mean = mu, stddev = sigma))\n",
    "    conv1a = tf.nn.relu(tf.nn.conv2d(x, conv1a_W, strides = conv_strides, padding = 'VALID') + conv1a_b)\n",
    "    \n",
    "    # 3x3 convolution\n",
    "    conv2a_W = tf.Variable(tf.truncated_normal((3, 3, 8, 16), mean = mu, stddev = sigma))\n",
    "    conv2a_b = tf.Variable(tf.truncated_normal([16], mean = mu, stddev = sigma))\n",
    "    conv2a = tf.nn.relu(tf.nn.conv2d(conv1a, conv2a_W, strides = conv_strides, padding = 'VALID') + conv2a_b)\n",
    "    \n",
    "    # 5x5 convolution\n",
    "    conv2b_W = tf.Variable(tf.truncated_normal((5, 5, 8, 32), mean = mu, stddev = sigma))\n",
    "    conv2b_b = tf.Variable(tf.truncated_normal([32], mean = mu, stddev = sigma))\n",
    "    conv2b = tf.nn.relu(tf.nn.conv2d(conv1a, conv2b_W, strides = conv_strides, padding = 'VALID') + conv2b_b)\n",
    "    \n",
    "    # Average pooling followed by 1x1\n",
    "    conv1b = tf.nn.avg_pool(x, ksize = [1, 3, 3, 1], strides = [1, 1, 1, 1], padding = 'VALID')\n",
    "    conv2c_W = tf.Variable(tf.truncated_normal((1, 1, 3, 16), mean = mu, stddev = sigma))\n",
    "    conv2c_b = tf.Variable(tf.truncated_normal([16], mean = mu, stddev = sigma))\n",
    "    conv2c = tf.nn.relu(tf.nn.conv2d(conv1b, conv2c_W, strides = [1, 1, 1, 1], padding = 'VALID') + conv2c_b)\n",
    "                            \n",
    "    # Flatten and concatenate\n",
    "    conv2 = tf.nn.dropout(tf.concat(1, [flatten(conv1a), flatten(conv2a), flatten(conv2b), flatten(conv2c)]), keep_prob)\n",
    "\n",
    "    # Apply fully connected layers with ReLU and resize to 120\n",
    "    #full3_W = tf.Variable(tf.truncated_normal(shape=(62080, 32), mean = mu, stddev = sigma))\n",
    "    #full3_b = tf.Variable(tf.truncated_normal([32], mean = mu, stddev = sigma))\n",
    "    #full3   = tf.nn.dropout(tf.nn.relu(tf.matmul(conv2, full3_W) + full3_b), keep_prob)\n",
    "    \n",
    "    # Apply second fully connected layer with ReLU again and resize to 84\n",
    "    #full4_W = tf.Variable(tf.truncated_normal(shape=(32, 64), mean = mu, stddev = sigma))\n",
    "    #full4_b = tf.Variable(tf.truncated_normal([64], mean = mu, stddev = sigma))\n",
    "    #full4   = tf.nn.dropout(tf.nn.relu(tf.matmul(full3, full4_W) + full4_b), keep_prob)\n",
    "    \n",
    "    # Apply last fully connected layer (without activation) and resize to n_classes\n",
    "    full5_W = tf.Variable(tf.truncated_normal(shape=(62080, n_classes), mean = mu, stddev = sigma))\n",
    "    full5_b = tf.Variable(tf.truncated_normal([n_classes], mean = mu, stddev = sigma))\n",
    "    return tf.matmul(conv2, full5_W) + full5_b"
   ]
  },
  {
   "cell_type": "markdown",
   "metadata": {},
   "source": [
    "### Train, Validate and Test the Model"
   ]
  },
  {
   "cell_type": "markdown",
   "metadata": {},
   "source": [
    "A validation set can be used to assess how well the model is performing. A low accuracy on the training and validation\n",
    "sets imply underfitting. A high accuracy on the training set but low accuracy on the validation set implies overfitting."
   ]
  },
  {
   "cell_type": "code",
   "execution_count": 15,
   "metadata": {
    "collapsed": true
   },
   "outputs": [],
   "source": [
    "### Train your model here.\n",
    "### Calculate and report the accuracy on the training and validation set.\n",
    "### Once a final model architecture is selected, \n",
    "### the accuracy on the test set should be calculated and reported as well.\n",
    "### Feel free to use as many code cells as needed.\n",
    "\n",
    "# Placeholders for the data\n",
    "x = tf.placeholder(tf.float32, (None, 32, 32, 3))\n",
    "y = tf.placeholder(tf.int32, (None))\n",
    "keep_prob = tf.placeholder(tf.float32) # Dropout probability\n",
    "# Apply One Hot mapping to y\n",
    "one_hot_y = tf.one_hot(y, n_classes)"
   ]
  },
  {
   "cell_type": "code",
   "execution_count": 16,
   "metadata": {
    "collapsed": true,
    "scrolled": false
   },
   "outputs": [],
   "source": [
    "# Define optimizaton operations to complete NN execution\n",
    "#global_step = tf.Variable(0, trainable=False)\n",
    "#starter_learning_rate = 0.0001\n",
    "#learning_rate = tf.train.exponential_decay(starter_learning_rate, global_step, 10000, 0.96, staircase=True)\n",
    "learning_rate = 0.00001\n",
    "\n",
    "logits = LeNet(x, keep_prob)\n",
    "cross_entropy = tf.nn.softmax_cross_entropy_with_logits(labels=one_hot_y, logits=logits)\n",
    "loss_operation = tf.reduce_mean(cross_entropy)\n",
    "# Using Adam Optimizer instead of vanilla Gradient Descent\n",
    "optimizer = tf.train.AdamOptimizer(learning_rate = learning_rate)\n",
    "training_operation = optimizer.minimize(loss_operation) #, global_step=global_step)"
   ]
  },
  {
   "cell_type": "code",
   "execution_count": 17,
   "metadata": {
    "collapsed": true
   },
   "outputs": [],
   "source": [
    "# Operations to calculate accuracy of the model\n",
    "\n",
    "EPOCHS = 1000\n",
    "BATCH_SIZE = 256\n",
    "\n",
    "correct_prediction = tf.equal(tf.argmax(logits, 1), tf.argmax(one_hot_y, 1))\n",
    "accuracy_operation = tf.reduce_mean(tf.cast(correct_prediction, tf.float32))\n",
    "saver = tf.train.Saver()\n",
    "\n",
    "def evaluate(X_data, y_data):\n",
    "    num_examples = len(X_data)\n",
    "    total_accuracy = 0\n",
    "    sess = tf.get_default_session()\n",
    "    for offset in range(0, num_examples, BATCH_SIZE):\n",
    "        batch_x, batch_y = X_data[offset:offset+BATCH_SIZE], y_data[offset:offset+BATCH_SIZE]\n",
    "        accuracy, prediction = sess.run((accuracy_operation, logits), feed_dict={x: batch_x, y: batch_y, keep_prob: 1})\n",
    "        total_accuracy += (accuracy * len(batch_x))\n",
    "    return (total_accuracy / num_examples, prediction)"
   ]
  },
  {
   "cell_type": "code",
   "execution_count": null,
   "metadata": {
    "scrolled": false
   },
   "outputs": [
    {
     "name": "stdout",
     "output_type": "stream",
     "text": [
      "Training...\n",
      "\n",
      "EPOCH 1 ... Training loss = 4.90524, Validation Accuracy = 0.033\n",
      "EPOCH 11 ... Training loss = 3.77232, Validation Accuracy = 0.007\n",
      "EPOCH 21 ... Training loss = 3.75991, Validation Accuracy = 0.007\n",
      "EPOCH 31 ... Training loss = 3.75103, Validation Accuracy = 0.042\n",
      "EPOCH 41 ... Training loss = 3.63870, Validation Accuracy = 0.135\n",
      "EPOCH 51 ... Training loss = 3.49333, Validation Accuracy = 0.243\n",
      "EPOCH 61 ... Training loss = 3.28291, Validation Accuracy = 0.313\n",
      "EPOCH 71 ... Training loss = 3.10172, Validation Accuracy = 0.434\n",
      "EPOCH 81 ... Training loss = 2.90339, Validation Accuracy = 0.487\n",
      "EPOCH 91 ... Training loss = 2.82984, Validation Accuracy = 0.522\n",
      "EPOCH 101 ... Training loss = 2.68786, Validation Accuracy = 0.556\n",
      "EPOCH 111 ... Training loss = 2.57003, Validation Accuracy = 0.604\n",
      "EPOCH 121 ... Training loss = 2.25897, Validation Accuracy = 0.650\n",
      "EPOCH 131 ... Training loss = 2.32013, Validation Accuracy = 0.686\n",
      "EPOCH 141 ... Training loss = 2.32151, Validation Accuracy = 0.712\n",
      "EPOCH 151 ... Training loss = 2.04598, Validation Accuracy = 0.734\n",
      "EPOCH 161 ... Training loss = 1.95924, Validation Accuracy = 0.749\n",
      "EPOCH 171 ... Training loss = 2.13465, Validation Accuracy = 0.763\n",
      "EPOCH 181 ... Training loss = 2.07838, Validation Accuracy = 0.777\n",
      "EPOCH 191 ... Training loss = 1.89047, Validation Accuracy = 0.788\n",
      "EPOCH 201 ... Training loss = 1.87638, Validation Accuracy = 0.800\n",
      "EPOCH 211 ... Training loss = 2.04039, Validation Accuracy = 0.813\n",
      "EPOCH 221 ... Training loss = 1.66270, Validation Accuracy = 0.821\n",
      "EPOCH 231 ... Training loss = 1.84300, Validation Accuracy = 0.831\n",
      "EPOCH 241 ... Training loss = 1.84216, Validation Accuracy = 0.840\n",
      "EPOCH 251 ... Training loss = 1.71184, Validation Accuracy = 0.849\n",
      "EPOCH 261 ... Training loss = 1.63508, Validation Accuracy = 0.858\n",
      "EPOCH 271 ... Training loss = 1.67990, Validation Accuracy = 0.862\n",
      "EPOCH 281 ... Training loss = 1.71340, Validation Accuracy = 0.868\n",
      "EPOCH 291 ... Training loss = 1.57450, Validation Accuracy = 0.872\n",
      "EPOCH 301 ... Training loss = 1.69854, Validation Accuracy = 0.879\n",
      "EPOCH 311 ... Training loss = 1.59888, Validation Accuracy = 0.883\n",
      "EPOCH 321 ... Training loss = 1.56508, Validation Accuracy = 0.888\n",
      "EPOCH 331 ... Training loss = 1.51484, Validation Accuracy = 0.893\n",
      "EPOCH 341 ... Training loss = 1.48862, Validation Accuracy = 0.897\n",
      "EPOCH 351 ... Training loss = 1.42999, Validation Accuracy = 0.900\n",
      "EPOCH 361 ... Training loss = 1.64505, Validation Accuracy = 0.903\n",
      "EPOCH 371 ... Training loss = 1.44275, Validation Accuracy = 0.909\n",
      "EPOCH 381 ... Training loss = 1.45757, Validation Accuracy = 0.910\n",
      "EPOCH 391 ... Training loss = 1.37020, Validation Accuracy = 0.915\n",
      "EPOCH 401 ... Training loss = 1.46561, Validation Accuracy = 0.917\n",
      "EPOCH 411 ... Training loss = 1.71703, Validation Accuracy = 0.919\n",
      "EPOCH 421 ... Training loss = 1.48638, Validation Accuracy = 0.923\n",
      "EPOCH 431 ... Training loss = 1.42757, Validation Accuracy = 0.924\n",
      "EPOCH 441 ... Training loss = 1.25553, Validation Accuracy = 0.926\n",
      "EPOCH 451 ... Training loss = 1.30072, Validation Accuracy = 0.924\n",
      "EPOCH 461 ... Training loss = 1.38260, Validation Accuracy = 0.928\n",
      "EPOCH 471 ... Training loss = 1.21406, Validation Accuracy = 0.928\n",
      "EPOCH 481 ... Training loss = 1.32948, Validation Accuracy = 0.930\n",
      "EPOCH 491 ... Training loss = 1.30278, Validation Accuracy = 0.929\n",
      "EPOCH 501 ... Training loss = 1.18889, Validation Accuracy = 0.932\n",
      "EPOCH 511 ... Training loss = 1.32251, Validation Accuracy = 0.933\n",
      "EPOCH 521 ... Training loss = 1.31019, Validation Accuracy = 0.934\n",
      "EPOCH 531 ... Training loss = 1.36629, Validation Accuracy = 0.936\n",
      "EPOCH 541 ... Training loss = 1.49441, Validation Accuracy = 0.937\n",
      "EPOCH 551 ... Training loss = 1.31805, Validation Accuracy = 0.939\n",
      "EPOCH 561 ... Training loss = 1.34260, Validation Accuracy = 0.940\n",
      "EPOCH 571 ... Training loss = 1.21004, Validation Accuracy = 0.940\n",
      "EPOCH 581 ... Training loss = 1.23937, Validation Accuracy = 0.942\n",
      "EPOCH 591 ... Training loss = 1.05920, Validation Accuracy = 0.943\n",
      "EPOCH 601 ... Training loss = 1.17194, Validation Accuracy = 0.944\n",
      "EPOCH 611 ... Training loss = 1.14910, Validation Accuracy = 0.946\n",
      "EPOCH 621 ... Training loss = 1.05573, Validation Accuracy = 0.945\n",
      "EPOCH 631 ... Training loss = 1.12684, Validation Accuracy = 0.945\n",
      "EPOCH 641 ... Training loss = 1.16326, Validation Accuracy = 0.948\n",
      "EPOCH 651 ... Training loss = 1.28561, Validation Accuracy = 0.946\n",
      "EPOCH 661 ... Training loss = 1.06914, Validation Accuracy = 0.948\n",
      "EPOCH 671 ... Training loss = 1.14554, Validation Accuracy = 0.948\n",
      "EPOCH 681 ... Training loss = 1.08917, Validation Accuracy = 0.949\n",
      "EPOCH 691 ... Training loss = 1.17564, Validation Accuracy = 0.948\n",
      "EPOCH 701 ... Training loss = 1.35740, Validation Accuracy = 0.948\n",
      "EPOCH 711 ... Training loss = 1.14797, Validation Accuracy = 0.949\n",
      "EPOCH 721 ... Training loss = 1.29903, Validation Accuracy = 0.949\n",
      "EPOCH 731 ... Training loss = 1.10674, Validation Accuracy = 0.950\n",
      "EPOCH 741 ... Training loss = 1.01527, Validation Accuracy = 0.950\n",
      "EPOCH 751 ... Training loss = 0.95020, Validation Accuracy = 0.950\n",
      "EPOCH 761 ... Training loss = 0.99660, Validation Accuracy = 0.950\n",
      "EPOCH 771 ... Training loss = 1.04265, Validation Accuracy = 0.951\n",
      "EPOCH 781 ... Training loss = 1.04681, Validation Accuracy = 0.951\n",
      "EPOCH 791 ... Training loss = 1.03971, Validation Accuracy = 0.952\n",
      "EPOCH 801 ... Training loss = 1.13458, Validation Accuracy = 0.951\n",
      "EPOCH 811 ... Training loss = 1.03122, Validation Accuracy = 0.951\n",
      "EPOCH 821 ... Training loss = 1.12131, Validation Accuracy = 0.951\n",
      "EPOCH 831 ... Training loss = 1.04497, Validation Accuracy = 0.952\n",
      "EPOCH 841 ... Training loss = 0.92750, Validation Accuracy = 0.952\n",
      "EPOCH 851 ... Training loss = 0.98088, Validation Accuracy = 0.954\n",
      "EPOCH 861 ... Training loss = 1.05875, Validation Accuracy = 0.954\n",
      "EPOCH 871 ... Training loss = 1.16419, Validation Accuracy = 0.954\n",
      "EPOCH 881 ... Training loss = 1.23644, Validation Accuracy = 0.955\n",
      "EPOCH 891 ... Training loss = 1.07526, Validation Accuracy = 0.955\n",
      "EPOCH 901 ... Training loss = 0.97092, Validation Accuracy = 0.955\n",
      "EPOCH 911 ... Training loss = 1.20980, Validation Accuracy = 0.954\n",
      "EPOCH 921 ... Training loss = 0.96642, Validation Accuracy = 0.954\n",
      "EPOCH 931 ... Training loss = 0.84897, Validation Accuracy = 0.955\n",
      "EPOCH 941 ... Training loss = 1.04849, Validation Accuracy = 0.955\n",
      "EPOCH 951 ... Training loss = 1.05246, Validation Accuracy = 0.955\n",
      "EPOCH 961 ... Training loss = 0.92863, Validation Accuracy = 0.956\n",
      "EPOCH 971 ... Training loss = 1.04434, Validation Accuracy = 0.957\n",
      "EPOCH 981 ... Training loss = 0.98748, Validation Accuracy = 0.956\n",
      "EPOCH 991 ... Training loss = 1.06099, Validation Accuracy = 0.954\n",
      "159.34638459571667\n"
     ]
    }
   ],
   "source": [
    "# Train the model\n",
    "from sklearn.utils import shuffle\n",
    "import os\n",
    "import timeit\n",
    "\n",
    "tloss_points = []\n",
    "#taccy_points = []\n",
    "vaccy_points = []\n",
    "\n",
    "\n",
    "checkpoint = 'lenet'\n",
    "\n",
    "with tf.Session() as sess:\n",
    "    # Build on previously generated results, if available instead of starting every time from scratch.\n",
    "    # This works unless the model changes, and would probably benefit from properly naming the TF variables.\n",
    "    if checkpoint + '.index' in os.listdir():\n",
    "        saver.restore(sess, './' + checkpoint)\n",
    "    else:\n",
    "        sess.run(tf.global_variables_initializer())\n",
    "    num_examples = len(X_train)\n",
    "    \n",
    "    print(\"Training...\")\n",
    "    print()\n",
    "    start_time = timeit.default_timer()\n",
    "    for i in range(EPOCHS):\n",
    "        X_train, y_train = shuffle(X_train, y_train)\n",
    "        for offset in range(0, num_examples, BATCH_SIZE):\n",
    "            end = offset + BATCH_SIZE\n",
    "            batch_x, batch_y = X_train[offset:end], y_train[offset:end]\n",
    "            _, minimized_loss = sess.run((training_operation, loss_operation), feed_dict={x: batch_x, y: batch_y, keep_prob: 0.5})\n",
    "            \n",
    "        #train_accuracy, _ = evaluate(X_train, y_train)\n",
    "        validation_accuracy,_ = evaluate(X_valid, y_valid)\n",
    "        if i % 10 == 0:\n",
    "            print(\"EPOCH {} ... Training loss = {:.5f}, Validation Accuracy = {:.3f}\".format(i+1, minimized_loss, validation_accuracy))\n",
    "        tloss_points.append(minimized_loss)\n",
    "        #taccy_points.append(train_accuracy)\n",
    "        vaccy_points.append(validation_accuracy)\n",
    "    print((timeit.default_timer() - start_time)/60.)\n",
    "    saver.save(sess, './' + checkpoint)\n",
    "    #print(\"Model saved\")\n",
    "#plt.plot(loss_points, 'b', accy_points, 'r')"
   ]
  },
  {
   "cell_type": "code",
   "execution_count": 19,
   "metadata": {
    "scrolled": true
   },
   "outputs": [
    {
     "name": "stdout",
     "output_type": "stream",
     "text": [
      "0.957142856629\n"
     ]
    },
    {
     "data": {
      "image/png": "[encoded data removed]",
      "text/plain": [
       "<matplotlib.figure.Figure at 0x7fcdae6b7748>"
      ]
     },
     "metadata": {},
     "output_type": "display_data"
    }
   ],
   "source": [
    "print(validation_accuracy)\n",
    "fig = plt.figure(figsize=(15,5))\n",
    "fig.add_subplot(1, 2, 1)\n",
    "plt.plot(tloss_points, 'b')\n",
    "fig.add_subplot(1, 2, 2)\n",
    "plt.plot(vaccy_points, 'r')\n",
    "plt.show()"
   ]
  },
  {
   "cell_type": "code",
   "execution_count": 20,
   "metadata": {},
   "outputs": [
    {
     "name": "stdout",
     "output_type": "stream",
     "text": [
      "Test Accuracy = 0.947\n"
     ]
    }
   ],
   "source": [
    "with tf.Session() as sess:\n",
    "    saver.restore(sess, tf.train.latest_checkpoint('.'))\n",
    "\n",
    "    test_accuracy, prediction = evaluate(X_test, y_test)\n",
    "    print(\"Test Accuracy = {:.3f}\".format(test_accuracy))"
   ]
  },
  {
   "cell_type": "markdown",
   "metadata": {},
   "source": [
    "---\n",
    "\n",
    "## Step 3: Test a Model on New Images\n",
    "\n",
    "To give yourself more insight into how your model is working, download at least five pictures of German traffic signs from the web and use your model to predict the traffic sign type.\n",
    "\n",
    "You may find `signnames.csv` useful as it contains mappings from the class id (integer) to the actual sign name."
   ]
  },
  {
   "cell_type": "markdown",
   "metadata": {},
   "source": [
    "### Load and Output the Images"
   ]
  },
  {
   "cell_type": "code",
   "execution_count": 21,
   "metadata": {
    "collapsed": true
   },
   "outputs": [],
   "source": [
    "### Load the images and plot them here.\n",
    "### Feel free to use as many code cells as needed.\n",
    "import matplotlib.image as mpimg\n",
    "import cv2\n",
    "import os\n",
    "\n",
    "base_path = \"images/\"\n",
    "X_new = []\n",
    "y_new = []\n",
    "for file_name in os.listdir(base_path):\n",
    "    new_image = cv2.cvtColor(mpimg.imread(base_path + file_name), cv2.COLOR_RGBA2RGB)\n",
    "    # imread creates a float32 array, so rescale to uint8\n",
    "    X_new.append(np.uint8(new_image * 255))\n",
    "    y_new.append(file_name.replace('.png',''))\n"
   ]
  },
  {
   "cell_type": "code",
   "execution_count": 22,
   "metadata": {},
   "outputs": [
    {
     "name": "stdout",
     "output_type": "stream",
     "text": [
      "(9, 32, 32, 3)\n",
      "(9,)\n"
     ]
    }
   ],
   "source": [
    "X_new = np.array(X_new) #, dtype=np.float32)\n",
    "y_new = np.array(y_new)\n",
    "print(X_new.shape)\n",
    "print(y_new.shape)"
   ]
  },
  {
   "cell_type": "code",
   "execution_count": 23,
   "metadata": {},
   "outputs": [
    {
     "data": {
      "image/png": "[encoded data removed]",
      "text/plain": [
       "<matplotlib.figure.Figure at 0x7fcda4202a90>"
      ]
     },
     "metadata": {},
     "output_type": "display_data"
    }
   ],
   "source": [
    "new_len = y_new.shape[0]\n",
    "fig = plt.figure(figsize=(15,15))\n",
    "\n",
    "for i in range(new_len):\n",
    "    fig.add_subplot(1, new_len, i + 1)\n",
    "    imgplot = plt.imshow(X_new[i])\n",
    "\n",
    "plt.show()"
   ]
  },
  {
   "cell_type": "markdown",
   "metadata": {},
   "source": [
    "### Predict the Sign Type for Each Image"
   ]
  },
  {
   "cell_type": "code",
   "execution_count": 24,
   "metadata": {
    "collapsed": true
   },
   "outputs": [],
   "source": [
    "### Run the predictions here and use the model to output the prediction for each image.\n",
    "### Make sure to pre-process the images with the same pre-processing pipeline used earlier.\n",
    "### Feel free to use as many code cells as needed.\n",
    "X_new = preprocess(X_new)\n"
   ]
  },
  {
   "cell_type": "code",
   "execution_count": 25,
   "metadata": {},
   "outputs": [
    {
     "data": {
      "image/png": "[encoded data removed]",
      "text/plain": [
       "<matplotlib.figure.Figure at 0x7fcd9e6b3ba8>"
      ]
     },
     "metadata": {},
     "output_type": "display_data"
    }
   ],
   "source": [
    "fig = plt.figure(figsize=(15,15))\n",
    "\n",
    "for i in range(new_len):\n",
    "    fig.add_subplot(1, new_len, i + 1)\n",
    "    #imgplot = plt.imshow(np.squeeze(X_new[i]), cmap='gray')\n",
    "    imgplot = plt.imshow(X_new[i])\n",
    "\n",
    "plt.show()"
   ]
  },
  {
   "cell_type": "code",
   "execution_count": 26,
   "metadata": {},
   "outputs": [
    {
     "name": "stdout",
     "output_type": "stream",
     "text": [
      "Image 0: Beware of ice/snow\n",
      "Image 1: Roundabout mandatory\n",
      "Image 2: Bicycles crossing\n",
      "Image 3: Right-of-way at the next intersection\n",
      "Image 4: No entry\n",
      "Image 5: Speed limit (30km/h)\n",
      "Image 6: Yield\n",
      "Image 7: Children crossing\n",
      "Image 8: Road work\n"
     ]
    }
   ],
   "source": [
    "import pandas as pd\n",
    "sign_names = pd.read_csv('signnames.csv')\n",
    "\n",
    "with tf.Session() as sess:\n",
    "    saver.restore(sess, tf.train.latest_checkpoint('.'))\n",
    "    #saver.restore(sess, './lenet')\n",
    "    new_accuracy, new_prediction = evaluate(X_new, y_new)\n",
    "    output = sess.run(tf.nn.softmax(new_prediction))\n",
    "    for image_index in range(output.shape[0]):\n",
    "        inds = np.argsort(output)[image_index, :]\n",
    "        print(\"Image %s: %s\" % (image_index, sign_names.ix[inds[-1]][1]))"
   ]
  },
  {
   "cell_type": "markdown",
   "metadata": {},
   "source": [
    "### Analyze Performance"
   ]
  },
  {
   "cell_type": "code",
   "execution_count": 27,
   "metadata": {},
   "outputs": [
    {
     "name": "stdout",
     "output_type": "stream",
     "text": [
      "New Test Accuracy = 77.78%\n"
     ]
    }
   ],
   "source": [
    "### Calculate the accuracy for these 5 new images. \n",
    "### For example, if the model predicted 1 out of 5 signs correctly, it's 20% accurate on these new images.\n",
    "print(\"New Test Accuracy = {:.2f}%\".format(new_accuracy * 100.))"
   ]
  },
  {
   "cell_type": "markdown",
   "metadata": {},
   "source": [
    "### Output Top 5 Softmax Probabilities For Each Image Found on the Web"
   ]
  },
  {
   "cell_type": "markdown",
   "metadata": {},
   "source": [
    "For each of the new images, print out the model's softmax probabilities to show the **certainty** of the model's predictions (limit the output to the top 5 probabilities for each image). [`tf.nn.top_k`](https://www.tensorflow.org/versions/r0.12/api_docs/python/nn.html#top_k) could prove helpful here. \n",
    "\n",
    "The example below demonstrates how tf.nn.top_k can be used to find the top k predictions for each image.\n",
    "\n",
    "`tf.nn.top_k` will return the values and indices (class ids) of the top k predictions. So if k=3, for each sign, it'll return the 3 largest probabilities (out of a possible 43) and the correspoding class ids.\n",
    "\n",
    "Take this numpy array as an example. The values in the array represent predictions. The array contains softmax probabilities for five candidate images with six possible classes. `tf.nn.top_k` is used to choose the three classes with the highest probability:\n",
    "\n",
    "```\n",
    "# (5, 6) array\n",
    "a = np.array([[ 0.24879643,  0.07032244,  0.12641572,  0.34763842,  0.07893497,\n",
    "         0.12789202],\n",
    "       [ 0.28086119,  0.27569815,  0.08594638,  0.0178669 ,  0.18063401,\n",
    "         0.15899337],\n",
    "       [ 0.26076848,  0.23664738,  0.08020603,  0.07001922,  0.1134371 ,\n",
    "         0.23892179],\n",
    "       [ 0.11943333,  0.29198961,  0.02605103,  0.26234032,  0.1351348 ,\n",
    "         0.16505091],\n",
    "       [ 0.09561176,  0.34396535,  0.0643941 ,  0.16240774,  0.24206137,\n",
    "         0.09155967]])\n",
    "```\n",
    "\n",
    "Running it through `sess.run(tf.nn.top_k(tf.constant(a), k=3))` produces:\n",
    "\n",
    "```\n",
    "TopKV2(values=array([[ 0.34763842,  0.24879643,  0.12789202],\n",
    "       [ 0.28086119,  0.27569815,  0.18063401],\n",
    "       [ 0.26076848,  0.23892179,  0.23664738],\n",
    "       [ 0.29198961,  0.26234032,  0.16505091],\n",
    "       [ 0.34396535,  0.24206137,  0.16240774]]), indices=array([[3, 0, 5],\n",
    "       [0, 1, 4],\n",
    "       [0, 5, 1],\n",
    "       [1, 3, 5],\n",
    "       [1, 4, 3]], dtype=int32))\n",
    "```\n",
    "\n",
    "Looking just at the first row we get `[ 0.34763842,  0.24879643,  0.12789202]`, you can confirm these are the 3 largest probabilities in `a`. You'll also notice `[3, 0, 5]` are the corresponding indices."
   ]
  },
  {
   "cell_type": "code",
   "execution_count": 28,
   "metadata": {},
   "outputs": [
    {
     "name": "stdout",
     "output_type": "stream",
     "text": [
      "TopKV2(values=array([[  6.26302528,   5.86474657,   4.62177563,   3.92228317,\n",
      "          2.19828343],\n",
      "       [ 14.99387455,  13.65546703,  13.59688282,  13.39077377,\n",
      "         13.24037552],\n",
      "       [  1.4085443 ,   0.71347439,   0.51254547,   0.3885926 ,\n",
      "          0.36798918],\n",
      "       [  5.41798592,   4.59749269,   4.17297888,   3.53929782,\n",
      "          3.25152516],\n",
      "       [ 16.62516212,  14.74699974,   4.57022905,   1.84651291,\n",
      "          1.14807856],\n",
      "       [ 30.34300041,  12.71344662,  11.90645313,   8.16078949,   3.9562695 ],\n",
      "       [ 51.1994133 ,  17.67664719,   8.07181835,   4.77021694,\n",
      "          1.33162904],\n",
      "       [  6.98142099,   5.72994995,   5.05418873,   4.7546339 ,\n",
      "          4.13811207],\n",
      "       [ 20.61667061,   4.27820301,   3.23375201,   1.7786454 ,\n",
      "          1.44151914]], dtype=float32), indices=array([[30, 28, 20, 23, 29],\n",
      "       [40, 36, 34, 37, 33],\n",
      "       [29, 26, 20, 17, 23],\n",
      "       [11, 30, 27, 18, 24],\n",
      "       [17, 14, 15, 29, 12],\n",
      "       [ 1,  2,  5,  4,  0],\n",
      "       [13, 15, 16, 14, 17],\n",
      "       [28, 30, 24, 29, 23],\n",
      "       [25, 20, 31, 27, 26]], dtype=int32))\n"
     ]
    }
   ],
   "source": [
    "### Print out the top five softmax probabilities for the predictions on the German traffic sign images found on the web. \n",
    "### Feel free to use as many code cells as needed.\n",
    "with tf.Session() as sess:\n",
    "    saver.restore(sess, tf.train.latest_checkpoint('.'))\n",
    "    top5s = sess.run(tf.nn.top_k(new_prediction, k=5))\n",
    "    print(top5s)"
   ]
  },
  {
   "cell_type": "markdown",
   "metadata": {},
   "source": [
    "### Project Writeup\n",
    "\n",
    "Once you have completed the code implementation, document your results in a project writeup using this [template](https://github.com/udacity/CarND-Traffic-Sign-Classifier-Project/blob/master/writeup_template.md) as a guide. The writeup can be in a markdown or pdf file. "
   ]
  },
  {
   "cell_type": "markdown",
   "metadata": {},
   "source": [
    "> **Note**: Once you have completed all of the code implementations and successfully answered each question above, you may finalize your work by exporting the iPython Notebook as an HTML document. You can do this by using the menu above and navigating to  \\n\",\n",
    "    \"**File -> Download as -> HTML (.html)**. Include the finished document along with this notebook as your submission."
   ]
  },
  {
   "cell_type": "markdown",
   "metadata": {},
   "source": [
    "---\n",
    "\n",
    "## Step 4 (Optional): Visualize the Neural Network's State with Test Images\n",
    "\n",
    " This Section is not required to complete but acts as an additional excersise for understaning the output of a neural network's weights. While neural networks can be a great learning device they are often referred to as a black box. We can understand what the weights of a neural network look like better by plotting their feature maps. After successfully training your neural network you can see what it's feature maps look like by plotting the output of the network's weight layers in response to a test stimuli image. From these plotted feature maps, it's possible to see what characteristics of an image the network finds interesting. For a sign, maybe the inner network feature maps react with high activation to the sign's boundary outline or to the contrast in the sign's painted symbol.\n",
    "\n",
    " Provided for you below is the function code that allows you to get the visualization output of any tensorflow weight layer you want. The inputs to the function should be a stimuli image, one used during training or a new one you provided, and then the tensorflow variable name that represents the layer's state during the training process, for instance if you wanted to see what the [LeNet lab's](https://classroom.udacity.com/nanodegrees/nd013/parts/fbf77062-5703-404e-b60c-95b78b2f3f9e/modules/6df7ae49-c61c-4bb2-a23e-6527e69209ec/lessons/601ae704-1035-4287-8b11-e2c2716217ad/concepts/d4aca031-508f-4e0b-b493-e7b706120f81) feature maps looked like for it's second convolutional layer you could enter conv2 as the tf_activation variable.\n",
    "\n",
    "For an example of what feature map outputs look like, check out NVIDIA's results in their paper [End-to-End Deep Learning for Self-Driving Cars](https://devblogs.nvidia.com/parallelforall/deep-learning-self-driving-cars/) in the section Visualization of internal CNN State. NVIDIA was able to show that their network's inner weights had high activations to road boundary lines by comparing feature maps from an image with a clear path to one without. Try experimenting with a similar test to show that your trained network's weights are looking for interesting features, whether it's looking at differences in feature maps from images with or without a sign, or even what feature maps look like in a trained network vs a completely untrained one on the same sign image.\n",
    "\n",
    "<figure>\n",
    " <img src=\"visualize_cnn.png\" width=\"380\" alt=\"Combined Image\" />\n",
    " <figcaption>\n",
    " <p></p> \n",
    " <p style=\"text-align: center;\"> Your output should look something like this (above)</p> \n",
    " </figcaption>\n",
    "</figure>\n",
    " <p></p> \n"
   ]
  },
  {
   "cell_type": "code",
   "execution_count": 29,
   "metadata": {
    "collapsed": true
   },
   "outputs": [],
   "source": [
    "### Visualize your network's feature maps here.\n",
    "### Feel free to use as many code cells as needed.\n",
    "\n",
    "# image_input: the test image being fed into the network to produce the feature maps\n",
    "# tf_activation: should be a tf variable name used during your training procedure that represents the calculated state of a specific weight layer\n",
    "# activation_min/max: can be used to view the activation contrast in more detail, by default matplot sets min and max to the actual min and max values of the output\n",
    "# plt_num: used to plot out multiple different weight feature map sets on the same block, just extend the plt number for each new feature map entry\n",
    "\n",
    "def outputFeatureMap(image_input, tf_activation, activation_min=-1, activation_max=-1 ,plt_num=1):\n",
    "    # Here make sure to preprocess your image_input in a way your network expects\n",
    "    # with size, normalization, ect if needed\n",
    "    # image_input =\n",
    "    # Note: x should be the same name as your network's tensorflow data placeholder variable\n",
    "    # If you get an error tf_activation is not defined it may be having trouble accessing the variable from inside a function\n",
    "    activation = tf_activation.eval(session=sess,feed_dict={x : image_input})\n",
    "    featuremaps = activation.shape[3]\n",
    "    plt.figure(plt_num, figsize=(15,15))\n",
    "    for featuremap in range(featuremaps):\n",
    "        plt.subplot(6,8, featuremap+1) # sets the number of feature maps to show on each row and column\n",
    "        plt.title('FeatureMap ' + str(featuremap)) # displays the feature map number\n",
    "        if activation_min != -1 & activation_max != -1:\n",
    "            plt.imshow(activation[0,:,:, featuremap], interpolation=\"nearest\", vmin =activation_min, vmax=activation_max, cmap=\"gray\")\n",
    "        elif activation_max != -1:\n",
    "            plt.imshow(activation[0,:,:, featuremap], interpolation=\"nearest\", vmax=activation_max, cmap=\"gray\")\n",
    "        elif activation_min !=-1:\n",
    "            plt.imshow(activation[0,:,:, featuremap], interpolation=\"nearest\", vmin=activation_min, cmap=\"gray\")\n",
    "        else:\n",
    "            plt.imshow(activation[0,:,:, featuremap], interpolation=\"nearest\", cmap=\"gray\")"
   ]
  },
  {
   "cell_type": "code",
   "execution_count": null,
   "metadata": {},
   "outputs": [
    {
     "data": {
      "image/png": "[encoded data removed]",
      "text/plain": [
       "<matplotlib.figure.Figure at 0x7fcda422cda0>"
      ]
     },
     "metadata": {},
     "output_type": "display_data"
    },
    {
     "data": {
      "image/png": "[encoded data removed]",
      "text/plain": [
       "<matplotlib.figure.Figure at 0x7fcd9e7040f0>"
      ]
     },
     "metadata": {},
     "output_type": "display_data"
    },
    {
     "data": {
      "image/png": "[encoded data removed]",
      "text/plain": [
       "<matplotlib.figure.Figure at 0x7fcd9e4c98d0>"
      ]
     },
     "metadata": {},
     "output_type": "display_data"
    }
   ],
   "source": [
    "plt.imshow(image)\n",
    "plt.show()\n",
    "ppimage = preprocess(image)\n",
    "with tf.Session() as sess:\n",
    "    saver.restore(sess, tf.train.latest_checkpoint('.'))\n",
    "    outputFeatureMap(np.expand_dims(ppimage, axis=0), tf.get_default_graph().get_tensor_by_name(\"Relu:0\"), plt_num=1)\n",
    "    outputFeatureMap(np.expand_dims(ppimage, axis=0), tf.get_default_graph().get_tensor_by_name(\"Relu_1:0\"), plt_num=2)\n",
    "    outputFeatureMap(np.expand_dims(ppimage, axis=0), tf.get_default_graph().get_tensor_by_name(\"Relu_2:0\"), plt_num=3)"
   ]
  },
  {
   "cell_type": "code",
   "execution_count": null,
   "metadata": {
    "collapsed": true
   },
   "outputs": [],
   "source": [
    "print([node.name for node in tf.get_default_graph().as_graph_def().node])"
   ]
  },
  {
   "cell_type": "code",
   "execution_count": null,
   "metadata": {
    "collapsed": true
   },
   "outputs": [],
   "source": [
    "plt.imshow(np.squeeze(X_valid[np.where(y_valid == 1)[0][0]]), cmap='gray')"
   ]
  },
  {
   "cell_type": "code",
   "execution_count": null,
   "metadata": {
    "collapsed": true
   },
   "outputs": [],
   "source": [
    "plt.figure(1, figsize=(15,15))\n",
    "valid_examples = X_valid[[np.where(y_valid == i)[0][0] for i in [1, 13, 17, 21, 23, 28, 30, 40]]]\n",
    "#plt.imshow(X_train[index].squeeze())\n",
    "with tf.Session() as sess:\n",
    "    saver.restore(sess, tf.train.latest_checkpoint('.'))\n",
    "    for example in range(valid_examples.shape[0]):\n",
    "    #plt.subplot(6,8, example+1) # sets the number of feature maps to show on each row and column\n",
    "    #plt.title('FeatureMap ' + str(featuremap)) # displays the feature map number\n",
    "    #plt.imshow(valid_examples[example], cmap=\"gray\")\n",
    "        outputFeatureMap(np.expand_dims(valid_examples[example], axis=0), tf.get_default_graph().get_tensor_by_name(\"LeNet5/Relu:0\"), plt_num=1)\n",
    "        outputFeatureMap(np.expand_dims(valid_examples[example], axis=0), tf.get_default_graph().get_tensor_by_name(\"LeNet5/Relu_1:0\"), plt_num=2)"
   ]
  },
  {
   "cell_type": "code",
   "execution_count": null,
   "metadata": {
    "collapsed": true
   },
   "outputs": [],
   "source": []
  }
 ],
 "metadata": {
  "anaconda-cloud": {},
  "kernelspec": {
   "display_name": "Python 3",
   "language": "python",
   "name": "python3"
  },
  "language_info": {
   "codemirror_mode": {
    "name": "ipython",
    "version": 3
   },
   "file_extension": ".py",
   "mimetype": "text/x-python",
   "name": "python",
   "nbconvert_exporter": "python",
   "pygments_lexer": "ipython3",
   "version": "3.5.2"
  },
  "widgets": {
   "state": {},
   "version": "1.1.2"
  }
 },
 "nbformat": 4,
 "nbformat_minor": 1
}
